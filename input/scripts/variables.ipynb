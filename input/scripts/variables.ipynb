{
 "cells": [
  {
   "cell_type": "code",
   "execution_count": 1,
   "metadata": {},
   "outputs": [],
   "source": [
    "import pandas as pd"
   ]
  },
  {
   "cell_type": "code",
   "execution_count": 2,
   "metadata": {},
   "outputs": [],
   "source": [
    "import_data = pd.read_csv(\"cardio_44k.csv\")"
   ]
  },
  {
   "cell_type": "code",
   "execution_count": 3,
   "metadata": {},
   "outputs": [],
   "source": [
    "df = import_data.loc[:, ['eid', '22420-2.0', '22425-2.0']].rename(columns={'eid': 'image', '22420-2.0': 'Ejection Fraction', '22425-2.0': 'Cardiac Index'})\n",
    "df = df.dropna(subset=['Ejection Fraction', 'Cardiac Index'])\n",
    "\n",
    "df['image'] = df['image'].astype(str)\n",
    "df['image'] = df['image'].apply(lambda x: str(x) + '_CINE_segmented_LAX_4Ch_RGB_0-16-39')"
   ]
  },
  {
   "cell_type": "code",
   "execution_count": null,
   "metadata": {},
   "outputs": [],
   "source": [
    "df"
   ]
  },
  {
   "cell_type": "code",
   "execution_count": 5,
   "metadata": {},
   "outputs": [],
   "source": [
    "df.to_csv('/dhc/groups/mpws2022cl1/i/variables.csv', index=False)\n"
   ]
  }
 ],
 "metadata": {
  "kernelspec": {
   "display_name": "transfer_gwas",
   "language": "python",
   "name": "python3"
  },
  "language_info": {
   "codemirror_mode": {
    "name": "ipython",
    "version": 3
   },
   "file_extension": ".py",
   "mimetype": "text/x-python",
   "name": "python",
   "nbconvert_exporter": "python",
   "pygments_lexer": "ipython3",
   "version": "3.6.13"
  },
  "orig_nbformat": 4,
  "vscode": {
   "interpreter": {
    "hash": "dc910ad0ce2a7603f15909527666fa83ce4a8e28f042ea6b6e566ba6f7a130b5"
   }
  }
 },
 "nbformat": 4,
 "nbformat_minor": 2
}
