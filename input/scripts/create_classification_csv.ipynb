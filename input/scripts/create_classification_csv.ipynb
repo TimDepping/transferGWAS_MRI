{
 "cells": [
  {
   "attachments": {},
   "cell_type": "markdown",
   "metadata": {},
   "source": [
    "# Create CSV for Classification (images + label)\n",
    "Input for pretraining"
   ]
  },
  {
   "attachments": {},
   "cell_type": "markdown",
   "metadata": {},
   "source": [
    "## Imports"
   ]
  },
  {
   "cell_type": "code",
   "execution_count": 26,
   "metadata": {},
   "outputs": [],
   "source": [
    "import pandas as pd\n",
    "import os"
   ]
  },
  {
   "cell_type": "code",
   "execution_count": 27,
   "metadata": {},
   "outputs": [],
   "source": [
    "import_data = pd.read_csv(\"/dhc/groups/mpws2022cl1/input/cardio_44k.csv\")"
   ]
  },
  {
   "cell_type": "code",
   "execution_count": 8,
   "metadata": {},
   "outputs": [],
   "source": [
    "# df = import_data.loc[:, ['eid', '22420-2.0', '22425-2.0']].rename(columns={'eid': 'image', '22420-2.0': 'Ejection Fraction', '22425-2.0': 'Cardiac Index'})\n",
    "# df = df.dropna(subset=['Ejection Fraction', 'Cardiac Index'])\n",
    "\n",
    "# df['image'] = df['image'].astype(str)\n",
    "# df['image'] = df['image'].apply(lambda x: str(x) + '_CINE_segmented_LAX_4Ch_RGB_0-16-39')"
   ]
  },
  {
   "cell_type": "code",
   "execution_count": 28,
   "metadata": {},
   "outputs": [],
   "source": [
    "df = import_data.loc[:, ['eid', '22420-2.0']].rename(columns={'eid': 'image', '22420-2.0': 'Ejection Fraction'})\n",
    "df = df.dropna(subset=['Ejection Fraction'])\n",
    "\n",
    "df['image'] = df['image'].astype(str)\n",
    "df['image'] = df['image'].apply(lambda x: str(x) + '_CINE_segmented_LAX_4Ch_RGB_0-16-39')"
   ]
  },
  {
   "cell_type": "code",
   "execution_count": 48,
   "metadata": {},
   "outputs": [
    {
     "data": {
      "text/html": [
       "<div>\n",
       "<style scoped>\n",
       "    .dataframe tbody tr th:only-of-type {\n",
       "        vertical-align: middle;\n",
       "    }\n",
       "\n",
       "    .dataframe tbody tr th {\n",
       "        vertical-align: top;\n",
       "    }\n",
       "\n",
       "    .dataframe thead th {\n",
       "        text-align: right;\n",
       "    }\n",
       "</style>\n",
       "<table border=\"1\" class=\"dataframe\">\n",
       "  <thead>\n",
       "    <tr style=\"text-align: right;\">\n",
       "      <th></th>\n",
       "      <th>image</th>\n",
       "      <th>Ejection Fraction</th>\n",
       "    </tr>\n",
       "  </thead>\n",
       "  <tbody>\n",
       "    <tr>\n",
       "      <th>8</th>\n",
       "      <td>1000096_CINE_segmented_LAX_4Ch_RGB_0-16-39</td>\n",
       "      <td>49.0</td>\n",
       "    </tr>\n",
       "    <tr>\n",
       "      <th>13</th>\n",
       "      <td>1000148_CINE_segmented_LAX_4Ch_RGB_0-16-39</td>\n",
       "      <td>45.0</td>\n",
       "    </tr>\n",
       "    <tr>\n",
       "      <th>33</th>\n",
       "      <td>1000346_CINE_segmented_LAX_4Ch_RGB_0-16-39</td>\n",
       "      <td>47.0</td>\n",
       "    </tr>\n",
       "    <tr>\n",
       "      <th>43</th>\n",
       "      <td>1000444_CINE_segmented_LAX_4Ch_RGB_0-16-39</td>\n",
       "      <td>45.0</td>\n",
       "    </tr>\n",
       "    <tr>\n",
       "      <th>54</th>\n",
       "      <td>1000558_CINE_segmented_LAX_4Ch_RGB_0-16-39</td>\n",
       "      <td>61.0</td>\n",
       "    </tr>\n",
       "    <tr>\n",
       "      <th>...</th>\n",
       "      <td>...</td>\n",
       "      <td>...</td>\n",
       "    </tr>\n",
       "    <tr>\n",
       "      <th>492181</th>\n",
       "      <td>5923552_CINE_segmented_LAX_4Ch_RGB_0-16-39</td>\n",
       "      <td>52.0</td>\n",
       "    </tr>\n",
       "    <tr>\n",
       "      <th>492183</th>\n",
       "      <td>5923575_CINE_segmented_LAX_4Ch_RGB_0-16-39</td>\n",
       "      <td>56.0</td>\n",
       "    </tr>\n",
       "    <tr>\n",
       "      <th>492192</th>\n",
       "      <td>5923668_CINE_segmented_LAX_4Ch_RGB_0-16-39</td>\n",
       "      <td>46.0</td>\n",
       "    </tr>\n",
       "    <tr>\n",
       "      <th>492202</th>\n",
       "      <td>5923764_CINE_segmented_LAX_4Ch_RGB_0-16-39</td>\n",
       "      <td>62.0</td>\n",
       "    </tr>\n",
       "    <tr>\n",
       "      <th>492227</th>\n",
       "      <td>5924011_CINE_segmented_LAX_4Ch_RGB_0-16-39</td>\n",
       "      <td>49.0</td>\n",
       "    </tr>\n",
       "  </tbody>\n",
       "</table>\n",
       "<p>38826 rows × 2 columns</p>\n",
       "</div>"
      ],
      "text/plain": [
       "                                             image  Ejection Fraction\n",
       "8       1000096_CINE_segmented_LAX_4Ch_RGB_0-16-39               49.0\n",
       "13      1000148_CINE_segmented_LAX_4Ch_RGB_0-16-39               45.0\n",
       "33      1000346_CINE_segmented_LAX_4Ch_RGB_0-16-39               47.0\n",
       "43      1000444_CINE_segmented_LAX_4Ch_RGB_0-16-39               45.0\n",
       "54      1000558_CINE_segmented_LAX_4Ch_RGB_0-16-39               61.0\n",
       "...                                            ...                ...\n",
       "492181  5923552_CINE_segmented_LAX_4Ch_RGB_0-16-39               52.0\n",
       "492183  5923575_CINE_segmented_LAX_4Ch_RGB_0-16-39               56.0\n",
       "492192  5923668_CINE_segmented_LAX_4Ch_RGB_0-16-39               46.0\n",
       "492202  5923764_CINE_segmented_LAX_4Ch_RGB_0-16-39               62.0\n",
       "492227  5924011_CINE_segmented_LAX_4Ch_RGB_0-16-39               49.0\n",
       "\n",
       "[38826 rows x 2 columns]"
      ]
     },
     "execution_count": 48,
     "metadata": {},
     "output_type": "execute_result"
    }
   ],
   "source": [
    "df"
   ]
  },
  {
   "attachments": {},
   "cell_type": "markdown",
   "metadata": {},
   "source": [
    "## Filter"
   ]
  },
  {
   "attachments": {},
   "cell_type": "markdown",
   "metadata": {},
   "source": [
    "Get rid of all referenced images in the CSV that are not available in the image directory"
   ]
  },
  {
   "cell_type": "code",
   "execution_count": 53,
   "metadata": {},
   "outputs": [],
   "source": [
    "filenames = [name for name in os.listdir(\"/dhc/groups/mpws2022cl1/images/heart/png/100_RGB_0-16-39\") if os.path.splitext(name)[-1] == '.png']"
   ]
  },
  {
   "cell_type": "code",
   "execution_count": 54,
   "metadata": {},
   "outputs": [
    {
     "data": {
      "text/plain": [
       "100"
      ]
     },
     "execution_count": 54,
     "metadata": {},
     "output_type": "execute_result"
    }
   ],
   "source": [
    "len(filenames)"
   ]
  },
  {
   "cell_type": "code",
   "execution_count": 56,
   "metadata": {},
   "outputs": [],
   "source": [
    "# Remove the \".png\" ending from each filename in the list of filenames\n",
    "filenames = [filename[:-4] for filename in filenames]"
   ]
  },
  {
   "cell_type": "code",
   "execution_count": 60,
   "metadata": {},
   "outputs": [],
   "source": [
    "# Use the DataFrame.isin() method to check which rows in the DataFrame are in the list of filenames\n",
    "mask = df['image'].isin(filenames)\n"
   ]
  },
  {
   "cell_type": "code",
   "execution_count": 61,
   "metadata": {},
   "outputs": [],
   "source": [
    "# Use the boolean mask to filter the DataFrame and remove the rows that are not in the list of filenames\n",
    "df = df[mask]"
   ]
  },
  {
   "cell_type": "code",
   "execution_count": 65,
   "metadata": {},
   "outputs": [
    {
     "data": {
      "text/plain": [
       "94"
      ]
     },
     "execution_count": 65,
     "metadata": {},
     "output_type": "execute_result"
    }
   ],
   "source": [
    "len(df)"
   ]
  },
  {
   "attachments": {},
   "cell_type": "markdown",
   "metadata": {},
   "source": [
    "## Safe CSV"
   ]
  },
  {
   "cell_type": "code",
   "execution_count": 66,
   "metadata": {},
   "outputs": [],
   "source": [
    "## safe CSV\n",
    "df.to_csv('/dhc/groups/mpws2022cl1/input/ejectionFraction.csv', index=False)\n"
   ]
  }
 ],
 "metadata": {
  "kernelspec": {
   "display_name": "transfer_gwas",
   "language": "python",
   "name": "python3"
  },
  "language_info": {
   "codemirror_mode": {
    "name": "ipython",
    "version": 3
   },
   "file_extension": ".py",
   "mimetype": "text/x-python",
   "name": "python",
   "nbconvert_exporter": "python",
   "pygments_lexer": "ipython3",
   "version": "3.6.13 |Anaconda, Inc.| (default, Jun  4 2021, 14:25:59) \n[GCC 7.5.0]"
  },
  "orig_nbformat": 4,
  "vscode": {
   "interpreter": {
    "hash": "4013042b4cd7d652abf67a920274245f9ac7f01af2255b32e190045be5b5f37d"
   }
  }
 },
 "nbformat": 4,
 "nbformat_minor": 2
}
