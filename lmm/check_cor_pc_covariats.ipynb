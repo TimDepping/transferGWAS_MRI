{
 "cells": [
  {
   "attachments": {},
   "cell_type": "markdown",
   "metadata": {},
   "source": [
    "This script checks for correlation between PCs and Covariates to uncover if a PC actually displays the information of a covariate."
   ]
  },
  {
   "cell_type": "code",
   "execution_count": null,
   "metadata": {},
   "outputs": [],
   "source": [
    "import pandas as pd\n",
    "import matplotlib.pyplot as plt"
   ]
  },
  {
   "cell_type": "code",
   "execution_count": null,
   "metadata": {},
   "outputs": [],
   "source": [
    "df_covariates = pd.read_csv(\"/dhc/groups/mpws2022cl1/input/filtered_biobank_check_cov_corr.csv\")\n",
    "df_pcs  = pd.read_csv(\"/dhc/groups/mpws2022cl1/output/50000_GRAY_50_minMaxScaling_ef_mc_2023_02_16_15_53_44_2023_03_06_11_29_52/resnet50_50_minMaxScaling_ef_mc_2023_02_16_15_53_44_L4.txt\", sep=' ')"
   ]
  },
  {
   "cell_type": "code",
   "execution_count": null,
   "metadata": {},
   "outputs": [],
   "source": [
    "# Check data types\n",
    "print(df_covariates.dtypes)\n",
    "\n",
    "# Check for missing values\n",
    "print(df_covariates.isnull().sum())\n",
    "\n",
    "# Summary statistics\n",
    "print(df_covariates.describe())\n",
    "\n",
    "# Histograms and box plots\n",
    "for col in df_covariates.columns:\n",
    "    if df_covariates[col].dtype == 'float64':\n",
    "        fig, (ax1, ax2) = plt.subplots(ncols=2, figsize=(10,5))\n",
    "        ax1.hist(df_covariates[col], bins=20)\n",
    "        ax1.set_title(col + ' histogram')\n",
    "        ax2.boxplot(df_covariates[col])\n",
    "        ax2.set_title(col + ' box plot')\n",
    "        plt.show()\n",
    "    elif df_covariates[col].dtype == 'object':\n",
    "        plt.figure()\n",
    "        df_covariates[col].value_counts().plot(kind='bar')\n",
    "        plt.title(col)\n",
    "        plt.show()"
   ]
  },
  {
   "cell_type": "code",
   "execution_count": null,
   "metadata": {},
   "outputs": [],
   "source": [
    "# Convert categorical variables\n",
    "df_covariates['Sex'] = df_covariates['Sex'].astype('category')\n",
    "df_covariates['Pacemaker'] = df_covariates['Pacemaker'].astype('category')\n",
    "df_covariates['Past_tobacco'] = df_covariates['Past_tobacco'].astype('category')\n",
    "df_covariates['Assessment_center'] = df_covariates['Assessment_center'].astype('category')\n",
    "\n",
    "# drop collumn 'LAX'\n",
    "df_covariates = df_covariates.drop(columns=['LAX'])\n",
    "\n",
    "# Print the data types of each variable\n",
    "print(df_covariates.dtypes)"
   ]
  },
  {
   "cell_type": "code",
   "execution_count": null,
   "metadata": {},
   "outputs": [],
   "source": [
    "# View the categories of the 'sex' column\n",
    "print(df_covariates['Sex'].cat.categories)\n",
    "# Check if 'Sex' column is a CategoricalIndex\n",
    "print(pd.api.types.is_categorical_dtype(df_covariates['Sex']))"
   ]
  },
  {
   "attachments": {},
   "cell_type": "markdown",
   "metadata": {},
   "source": [
    "### Check for correlation between PCs and covariates"
   ]
  },
  {
   "cell_type": "code",
   "execution_count": null,
   "metadata": {},
   "outputs": [],
   "source": [
    "import pandas as pd\n",
    "\n",
    "# Assuming you have two DataFrames: df1 (covariates) and df2 (PCs)\n",
    "# Rename the 'IID' column in df2 to 'eid' to match the column name in df1\n",
    "df_pcs = df_pcs.rename(columns={'IID': 'eid'})\n",
    "\n",
    "# Merge the two DataFrames on the 'eid' column\n",
    "merged_df = pd.merge(df_covariates, df_pcs, on='eid')\n",
    "\n",
    "# Calculate the correlation between the PCs and covariates\n",
    "# You may customize the list of PCs and covariates as needed\n",
    "pcs = ['PC_0','PC_1', 'PC_2', 'PC_3', 'PC_4', 'PC_5', 'PC_6', 'PC_7', 'PC_8', 'PC_9']\n",
    "covariates = ['Sex', 'Assessment_center', 'Systolic_manual', 'Past_tobacco', 'Pacemaker', \n",
    "              'Systolic_automatic', 'EF', 'end_diastolic_volume', 'cardiac_output', \n",
    "              'cardiac_index', 'heart_rate', 'BMI', 'Age']\n",
    "\n",
    "# Get dummy variables for categorical covariates\n",
    "merged_df = pd.get_dummies(merged_df, columns=['Sex', 'Assessment_center', 'Past_tobacco', 'Pacemaker'])\n",
    "\n",
    "# Update the covariates list to include dummy variable column names\n",
    "covariates = [col for col in merged_df.columns if any(cov in col for cov in covariates)]\n",
    "\n",
    "# Compute the correlation matrix\n",
    "corr_matrix = merged_df[pcs + covariates].corr()\n",
    "\n",
    "# Get the correlations between PCs and covariates\n",
    "pc_covariate_correlations = corr_matrix.loc[pcs, covariates]\n",
    "\n",
    "print(pc_covariate_correlations)"
   ]
  },
  {
   "cell_type": "code",
   "execution_count": null,
   "metadata": {},
   "outputs": [],
   "source": [
    "# Initialize an empty DataFrame to store correlations\n",
    "pc_covariate_correlations = pd.DataFrame(index=pcs, columns=covariates)\n",
    "\n",
    "# Compute correlations for each pair of PC and covariate using pairwise deletion\n",
    "for pc in pcs:\n",
    "    for covariate in covariates:\n",
    "        non_missing_mask = (~merged_df[pc].isna()) & (~merged_df[covariate].isna())\n",
    "        pc_covariate_correlations.loc[pc, covariate] = merged_df.loc[non_missing_mask, [pc, covariate]].corr().iloc[0, 1]\n",
    "\n",
    "print(pc_covariate_correlations)"
   ]
  }
 ],
 "metadata": {
  "kernelspec": {
   "display_name": "transfer_gwas",
   "language": "python",
   "name": "python3"
  },
  "language_info": {
   "codemirror_mode": {
    "name": "ipython",
    "version": 3
   },
   "file_extension": ".py",
   "mimetype": "text/x-python",
   "name": "python",
   "nbconvert_exporter": "python",
   "pygments_lexer": "ipython3",
   "version": "3.6.13"
  },
  "orig_nbformat": 4,
  "vscode": {
   "interpreter": {
    "hash": "4013042b4cd7d652abf67a920274245f9ac7f01af2255b32e190045be5b5f37d"
   }
  }
 },
 "nbformat": 4,
 "nbformat_minor": 2
}
